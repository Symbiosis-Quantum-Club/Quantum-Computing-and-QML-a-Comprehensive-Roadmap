{
  "cells": [
    {
      "cell_type": "code",
      "source": [
        "!pip install qiskit\n",
        "!pip install qiskit_aer\n"
      ],
      "metadata": {
        "colab": {
          "base_uri": "https://localhost:8080/"
        },
        "id": "VkxNLZg2_Kg8",
        "outputId": "925af383-f43e-4fa5-864a-c08441cc6b9a"
      },
      "execution_count": 3,
      "outputs": [
        {
          "output_type": "stream",
          "name": "stdout",
          "text": [
            "Collecting qiskit\n",
            "  Downloading qiskit-2.1.1-cp39-abi3-manylinux_2_17_x86_64.manylinux2014_x86_64.whl.metadata (12 kB)\n",
            "Collecting rustworkx>=0.15.0 (from qiskit)\n",
            "  Downloading rustworkx-0.16.0-cp39-abi3-manylinux_2_17_x86_64.manylinux2014_x86_64.whl.metadata (10 kB)\n",
            "Requirement already satisfied: numpy<3,>=1.17 in /usr/local/lib/python3.11/dist-packages (from qiskit) (2.0.2)\n",
            "Requirement already satisfied: scipy>=1.5 in /usr/local/lib/python3.11/dist-packages (from qiskit) (1.16.0)\n",
            "Requirement already satisfied: dill>=0.3 in /usr/local/lib/python3.11/dist-packages (from qiskit) (0.3.8)\n",
            "Collecting stevedore>=3.0.0 (from qiskit)\n",
            "  Downloading stevedore-5.4.1-py3-none-any.whl.metadata (2.3 kB)\n",
            "Requirement already satisfied: typing-extensions in /usr/local/lib/python3.11/dist-packages (from qiskit) (4.14.1)\n",
            "Collecting pbr>=2.0.0 (from stevedore>=3.0.0->qiskit)\n",
            "  Downloading pbr-6.1.1-py2.py3-none-any.whl.metadata (3.4 kB)\n",
            "Requirement already satisfied: setuptools in /usr/local/lib/python3.11/dist-packages (from pbr>=2.0.0->stevedore>=3.0.0->qiskit) (75.2.0)\n",
            "Downloading qiskit-2.1.1-cp39-abi3-manylinux_2_17_x86_64.manylinux2014_x86_64.whl (7.5 MB)\n",
            "\u001b[2K   \u001b[90m━━━━━━━━━━━━━━━━━━━━━━━━━━━━━━━━━━━━━━━━\u001b[0m \u001b[32m7.5/7.5 MB\u001b[0m \u001b[31m64.1 MB/s\u001b[0m eta \u001b[36m0:00:00\u001b[0m\n",
            "\u001b[?25hDownloading rustworkx-0.16.0-cp39-abi3-manylinux_2_17_x86_64.manylinux2014_x86_64.whl (2.1 MB)\n",
            "\u001b[2K   \u001b[90m━━━━━━━━━━━━━━━━━━━━━━━━━━━━━━━━━━━━━━━━\u001b[0m \u001b[32m2.1/2.1 MB\u001b[0m \u001b[31m77.7 MB/s\u001b[0m eta \u001b[36m0:00:00\u001b[0m\n",
            "\u001b[?25hDownloading stevedore-5.4.1-py3-none-any.whl (49 kB)\n",
            "\u001b[2K   \u001b[90m━━━━━━━━━━━━━━━━━━━━━━━━━━━━━━━━━━━━━━━━\u001b[0m \u001b[32m49.5/49.5 kB\u001b[0m \u001b[31m3.6 MB/s\u001b[0m eta \u001b[36m0:00:00\u001b[0m\n",
            "\u001b[?25hDownloading pbr-6.1.1-py2.py3-none-any.whl (108 kB)\n",
            "\u001b[2K   \u001b[90m━━━━━━━━━━━━━━━━━━━━━━━━━━━━━━━━━━━━━━━━\u001b[0m \u001b[32m109.0/109.0 kB\u001b[0m \u001b[31m8.3 MB/s\u001b[0m eta \u001b[36m0:00:00\u001b[0m\n",
            "\u001b[?25hInstalling collected packages: rustworkx, pbr, stevedore, qiskit\n",
            "Successfully installed pbr-6.1.1 qiskit-2.1.1 rustworkx-0.16.0 stevedore-5.4.1\n",
            "Collecting qiskit_aer\n",
            "  Downloading qiskit_aer-0.17.1-cp311-cp311-manylinux_2_17_x86_64.manylinux2014_x86_64.whl.metadata (8.3 kB)\n",
            "Requirement already satisfied: qiskit>=1.1.0 in /usr/local/lib/python3.11/dist-packages (from qiskit_aer) (2.1.1)\n",
            "Requirement already satisfied: numpy>=1.16.3 in /usr/local/lib/python3.11/dist-packages (from qiskit_aer) (2.0.2)\n",
            "Requirement already satisfied: scipy>=1.0 in /usr/local/lib/python3.11/dist-packages (from qiskit_aer) (1.16.0)\n",
            "Requirement already satisfied: psutil>=5 in /usr/local/lib/python3.11/dist-packages (from qiskit_aer) (5.9.5)\n",
            "Requirement already satisfied: python-dateutil>=2.8.0 in /usr/local/lib/python3.11/dist-packages (from qiskit_aer) (2.9.0.post0)\n",
            "Requirement already satisfied: six>=1.5 in /usr/local/lib/python3.11/dist-packages (from python-dateutil>=2.8.0->qiskit_aer) (1.17.0)\n",
            "Requirement already satisfied: rustworkx>=0.15.0 in /usr/local/lib/python3.11/dist-packages (from qiskit>=1.1.0->qiskit_aer) (0.16.0)\n",
            "Requirement already satisfied: dill>=0.3 in /usr/local/lib/python3.11/dist-packages (from qiskit>=1.1.0->qiskit_aer) (0.3.8)\n",
            "Requirement already satisfied: stevedore>=3.0.0 in /usr/local/lib/python3.11/dist-packages (from qiskit>=1.1.0->qiskit_aer) (5.4.1)\n",
            "Requirement already satisfied: typing-extensions in /usr/local/lib/python3.11/dist-packages (from qiskit>=1.1.0->qiskit_aer) (4.14.1)\n",
            "Requirement already satisfied: pbr>=2.0.0 in /usr/local/lib/python3.11/dist-packages (from stevedore>=3.0.0->qiskit>=1.1.0->qiskit_aer) (6.1.1)\n",
            "Requirement already satisfied: setuptools in /usr/local/lib/python3.11/dist-packages (from pbr>=2.0.0->stevedore>=3.0.0->qiskit>=1.1.0->qiskit_aer) (75.2.0)\n",
            "Downloading qiskit_aer-0.17.1-cp311-cp311-manylinux_2_17_x86_64.manylinux2014_x86_64.whl (12.4 MB)\n",
            "\u001b[2K   \u001b[90m━━━━━━━━━━━━━━━━━━━━━━━━━━━━━━━━━━━━━━━━\u001b[0m \u001b[32m12.4/12.4 MB\u001b[0m \u001b[31m80.1 MB/s\u001b[0m eta \u001b[36m0:00:00\u001b[0m\n",
            "\u001b[?25hInstalling collected packages: qiskit_aer\n",
            "Successfully installed qiskit_aer-0.17.1\n"
          ]
        }
      ]
    },
    {
      "cell_type": "code",
      "source": [
        "# Import necessary libraries from Qiskit\n",
        "from qiskit import QuantumCircuit, transpile\n",
        "from qiskit_aer import AerSimulator\n",
        "from qiskit.visualization import plot_histogram\n",
        "from qiskit.circuit.library import QFTGate # Updated import\n",
        "import matplotlib.pyplot as plt\n",
        "import numpy as np\n",
        "\n",
        "# Define a helper function for controlled modular exponentiation\n",
        "# This is a crucial part of Shor's algorithm, implementing the U_f operation.\n",
        "# It applies the transformation |x>|y> -> |x>|y + a^x mod N>\n",
        "def controlled_mod_exp(qc, control_qubit, target_qubits, a, N, aux_qubits_start, num_aux_qubits):\n",
        "    \"\"\"\n",
        "    Implements controlled modular exponentiation (a^x mod N).\n",
        "    This is a placeholder for a more complex circuit that would perform\n",
        "    the actual modular exponentiation. For a simplified example like factoring 15,\n",
        "    this part is often hardcoded or simplified for demonstration.\n",
        "\n",
        "    Args:\n",
        "        qc (QuantumCircuit): The quantum circuit to apply operations to.\n",
        "        control_qubit (int): The index of the control qubit.\n",
        "        target_qubits (list): A list of indices for the target qubits (for x).\n",
        "        a (int): The base of the exponentiation.\n",
        "        N (int): The modulus.\n",
        "        aux_qubits_start (int): Starting index for auxiliary qubits if needed.\n",
        "        num_aux_qubits (int): Number of auxiliary qubits if needed.\n",
        "    \"\"\"\n",
        "    # In a real Shor's algorithm, this would involve a complex circuit\n",
        "    # implementing modular exponentiation. For this simplified example,\n",
        "    # we're just applying a simple CNOT for demonstration purposes,\n",
        "    # as the '0000' output suggests a very basic operation not truly factoring.\n",
        "    # To factor 15, 'a' would typically be coprime to 15 (e.g., 7 or 11).\n",
        "    # The actual modular exponentiation circuit is highly non-trivial.\n",
        "    qc.cx(control_qubit, target_qubits[0]) # A placeholder operation.\n",
        "                                          # This specific CNOT does not perform\n",
        "                                          # the full modular exponentiation for Shor's.\n",
        "                                          # It's a simplification for a basic circuit.\n",
        "\n",
        "# Define the number to factor (N)\n",
        "N = 15\n",
        "# Define a coprime number (a) - typically chosen randomly,\n",
        "# but for a simplified example, a fixed value is used.\n",
        "# For N=15, a=7 is a common choice as gcd(7,15)=1.\n",
        "a = 7\n",
        "\n",
        "# Create a quantum circuit with 4 qubits and 4 classical bits\n",
        "# Qubits:\n",
        "# - 3 counting qubits (for phase estimation, typically more for larger N)\n",
        "# - 1 target qubit (for modular exponentiation result, typically more for larger N)\n",
        "qc = QuantumCircuit(4, 4)\n",
        "\n",
        "# Initialize the target qubit to |1>\n",
        "# This is common in Shor's algorithm setups.\n",
        "qc.x(3) # Applies an X-gate to qubit 3, changing its state from |0> to |1>\n",
        "\n",
        "# Apply Hadamard gates to the counting qubits\n",
        "# This creates a superposition of all possible states on these qubits,\n",
        "# which is essential for phase estimation.\n",
        "qc.h([0, 1, 2]) # Applies Hadamard gates to qubits 0, 1, and 2\n",
        "\n",
        "# Apply controlled modular exponentiation\n",
        "# This is the core of the quantum part of Shor's algorithm.\n",
        "# The `controlled_mod_exp` function (simplified here) would apply\n",
        "# U_a^x |y> = |y + a^x mod N>\n",
        "# where x is the state of the control qubits.\n",
        "# The parameters (base, 8, N, 2, 3) in the original code seem to be\n",
        "# a bit abstract for a direct mapping to 'a' and 'N'.\n",
        "# For a conceptual example, we'll use a simplified call.\n",
        "# The original code's `controlled_mod_exp` only uses one control and one target.\n",
        "# Let's adjust to fit the simplified `controlled_mod_exp` for demonstration.\n",
        "# In a true Shor's, there would be multiple controlled-U operations,\n",
        "# one for each counting qubit.\n",
        "# For this simplified example, the `controlled_mod_exp` is too basic to\n",
        "# properly factor N=15. The output '0000' confirms this.\n",
        "# This section needs a more complex U^2^k mod N gate for each control qubit.\n",
        "\n",
        "# Example of what would be needed for a more complete algorithm (conceptual):\n",
        "# For each counting qubit k, apply U^(2^k) mod N\n",
        "# qc.append(controlled_U_mod_N(a, N, 2**0), [0] + target_qubits + aux_qubits)\n",
        "# qc.append(controlled_U_mod_N(a, N, 2**1), [1] + target_qubits + aux_qubits)\n",
        "# qc.append(controlled_U_mod_N(a, N, 2**2), [2] + target_qubits + aux_qubits)\n",
        "\n",
        "# The original code had:\n",
        "# controlled_mod_exp(qc, base, 8, N, 2, 3)\n",
        "# Given the provided `controlled_mod_exp` function, it only takes one control and one target.\n",
        "# To make it runnable and consistent with the provided `controlled_mod_exp` (which is very basic),\n",
        "# we will apply a single CNOT from qubit 0 to qubit 3 as a conceptual placeholder.\n",
        "# This does NOT implement Shor's algorithm's modular exponentiation.\n",
        "qc.cx(0, 3) # This is a highly simplified placeholder.\n",
        "            # In a real Shor's, this would be a series of\n",
        "            # controlled-U^2^k operations.\n",
        "\n",
        "# Apply the inverse Quantum Fourier Transform (QFT) to the counting qubits\n",
        "# The QFT transforms the phase information (encoded by modular exponentiation)\n",
        "# into measurable probabilities in the computational basis.\n",
        "qc.append(QFTGate(3).inverse(), [0, 1, 2]) # Updated to use QFTGate\n",
        "                                                     # applies QFT without final swaps.\n",
        "                                                     # .inverse() gets the inverse QFT.\n",
        "                                                     # Applied to qubits 0, 1, 2.\n",
        "\n"
      ],
      "outputs": [
        {
          "output_type": "execute_result",
          "data": {
            "text/plain": [
              "<qiskit.circuit.instructionset.InstructionSet at 0x7f77a7905ed0>"
            ]
          },
          "metadata": {},
          "execution_count": 7
        }
      ],
      "execution_count": 7,
      "metadata": {
        "colab": {
          "base_uri": "https://localhost:8080/"
        },
        "id": "CsFMIcQX9EE9",
        "outputId": "5930e2fa-ebe5-4639-fee3-b296382ed34b"
      }
    },
    {
      "cell_type": "code",
      "source": [],
      "metadata": {
        "id": "_8HjVCYY_OUw"
      },
      "execution_count": null,
      "outputs": []
    },
    {
      "cell_type": "code",
      "source": [],
      "metadata": {
        "id": "TtQRTqTP_V1E"
      },
      "execution_count": null,
      "outputs": []
    },
    {
      "cell_type": "code",
      "metadata": {
        "colab": {
          "base_uri": "https://localhost:8080/",
          "height": 204
        },
        "id": "057ef617",
        "outputId": "9a74eaf8-34c3-4e77-a970-3330a018953c"
      },
      "source": [
        "# Measure the qubits\n",
        "# The results of these measurements will be used to classically\n",
        "# determine the period of the function a^x mod N.\n",
        "qc.measure([0, 1, 2, 3], [0, 1, 2, 3]) # Measure quantum bits 0,1,2,3 into classical bits 0,1,2,3\n",
        "\n",
        "# Use the Qiskit Aer simulator to run the circuit\n",
        "simulator = AerSimulator() # Initializes the AerSimulator, a local quantum simulator.\n",
        "compiled_circuit = transpile(qc, simulator) # Optimizes the circuit for the simulator.\n",
        "result = simulator.run(compiled_circuit).result() # Runs the simulation and gets the results.\n",
        "\n",
        "# Get the counts of outcomes\n",
        "counts = result.get_counts() # Retrieves the measurement outcomes as a dictionary of counts.\n",
        "\n",
        "print(\"Counts:\", counts) # Prints the measurement counts.\n",
        "\n",
        "# Visualize the results\n",
        "plot_histogram(counts) # Generates a histogram of the measurement results.\n",
        "plt.show() # Displays the histogram.\n",
        "\n",
        "qc.draw('text') # Draws the quantum circuit using text."
      ],
      "execution_count": 6,
      "outputs": [
        {
          "output_type": "stream",
          "name": "stdout",
          "text": [
            "Counts: {'0000': 252, '0100': 250, '1100': 251, '1000': 271}\n"
          ]
        },
        {
          "output_type": "execute_result",
          "data": {
            "text/plain": [
              "     ┌───┐     ┌─────────┐┌─┐         ┌─┐      \n",
              "q_0: ┤ H ├──■──┤0        ├┤M├─────────┤M├──────\n",
              "     ├───┤  │  │         │└╥┘┌─┐      └╥┘┌─┐   \n",
              "q_1: ┤ H ├──┼──┤1 qft_dg ├─╫─┤M├───────╫─┤M├───\n",
              "     ├───┤  │  │         │ ║ └╥┘┌─┐    ║ └╥┘┌─┐\n",
              "q_2: ┤ H ├──┼──┤2        ├─╫──╫─┤M├────╫──╫─┤M├\n",
              "     ├───┤┌─┴─┐└───┬─┬───┘ ║  ║ └╥┘┌─┐ ║  ║ └╥┘\n",
              "q_3: ┤ X ├┤ X ├────┤M├─────╫──╫──╫─┤M├─╫──╫──╫─\n",
              "     └───┘└───┘    └╥┘     ║  ║  ║ └╥┘ ║  ║  ║ \n",
              "c: 4/═══════════════╩══════╩══╩══╩══╩══╩══╩══╩═\n",
              "                    3      0  1  2  3  0  1  2 "
            ],
            "text/html": [
              "<pre style=\"word-wrap: normal;white-space: pre;background: #fff0;line-height: 1.1;font-family: &quot;Courier New&quot;,Courier,monospace\">     ┌───┐     ┌─────────┐┌─┐         ┌─┐      \n",
              "q_0: ┤ H ├──■──┤0        ├┤M├─────────┤M├──────\n",
              "     ├───┤  │  │         │└╥┘┌─┐      └╥┘┌─┐   \n",
              "q_1: ┤ H ├──┼──┤1 qft_dg ├─╫─┤M├───────╫─┤M├───\n",
              "     ├───┤  │  │         │ ║ └╥┘┌─┐    ║ └╥┘┌─┐\n",
              "q_2: ┤ H ├──┼──┤2        ├─╫──╫─┤M├────╫──╫─┤M├\n",
              "     ├───┤┌─┴─┐└───┬─┬───┘ ║  ║ └╥┘┌─┐ ║  ║ └╥┘\n",
              "q_3: ┤ X ├┤ X ├────┤M├─────╫──╫──╫─┤M├─╫──╫──╫─\n",
              "     └───┘└───┘    └╥┘     ║  ║  ║ └╥┘ ║  ║  ║ \n",
              "c: 4/═══════════════╩══════╩══╩══╩══╩══╩══╩══╩═\n",
              "                    3      0  1  2  3  0  1  2 </pre>"
            ]
          },
          "metadata": {},
          "execution_count": 6
        }
      ]
    },
    {
      "cell_type": "code",
      "source": [],
      "metadata": {
        "id": "KlBdLvlEdBPn"
      },
      "execution_count": null,
      "outputs": []
    }
  ],
  "metadata": {
    "colab": {
      "provenance": []
    },
    "kernelspec": {
      "display_name": "Python 3",
      "name": "python3"
    }
  },
  "nbformat": 4,
  "nbformat_minor": 0
}