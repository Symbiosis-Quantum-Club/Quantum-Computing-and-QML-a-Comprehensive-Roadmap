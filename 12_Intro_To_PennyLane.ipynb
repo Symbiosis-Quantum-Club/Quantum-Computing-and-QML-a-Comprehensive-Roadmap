{
  "cells": [
    {
      "cell_type": "code",
      "source": [
        "# First, install PennyLane and its lightning simulator.!pip install pennylane pennylane-lightning\n",
        "\n",
        "# Import the necessary libraries\n",
        "import pennylane as qml\n",
        "from pennylane import numpy as np\n",
        "\n",
        "print(\"PennyLane and its dependencies installed and imported successfully!\")\n"
      ],
      "outputs": [
        {
          "output_type": "stream",
          "name": "stdout",
          "text": [
            "PennyLane and its dependencies installed and imported successfully!\n"
          ]
        }
      ],
      "execution_count": 4,
      "metadata": {
        "colab": {
          "base_uri": "https://localhost:8080/"
        },
        "id": "T82sWuHM5OQZ",
        "outputId": "91c3fea7-e902-4ea8-95c8-ed354ff2ec1e"
      }
    },
    {
      "cell_type": "markdown",
      "source": [
        "#Define a quantum device\n",
        "> We'll use the **'default.qubit'** device, which is a basic simulator implementation in PennyLane.'wires' specifies the number of qubits (quantum wires) in our circuit."
      ],
      "metadata": {
        "id": "A9w-rwP58XzY"
      }
    },
    {
      "cell_type": "code",
      "source": [
        "dev = qml.device(\"default.qubit\", wires=2)\n",
        "print(f\"\\nQuantum device '{dev.name}' with 2 wires initialized.\")"
      ],
      "metadata": {
        "colab": {
          "base_uri": "https://localhost:8080/"
        },
        "id": "kqD5MI_l80uX",
        "outputId": "c533e42c-2b19-4391-8fb5-a458eaa09228"
      },
      "execution_count": 12,
      "outputs": [
        {
          "output_type": "stream",
          "name": "stdout",
          "text": [
            "\n",
            "Quantum device 'default.qubit' with 2 wires initialized.\n"
          ]
        }
      ]
    },
    {
      "cell_type": "markdown",
      "source": [
        "> Define a quantum function (QNode):\n",
        "\n",
        "\n",
        "The @qml.qnode decorator turns a Python function into a quantum circuit.\n",
        "It connects the quantum function to the specified device. *italicized text*"
      ],
      "metadata": {
        "id": "7444DI8t9dRD"
      }
    },
    {
      "cell_type": "code",
      "source": [
        "\n",
        "\n",
        "@qml.qnode(dev)\n",
        "def simple_circuit(x, y):\n",
        "    \"\"\"\n",
        "    A simple quantum circuit with two qubits.\n",
        "\n",
        "    Args:\n",
        "        x (float): A parameter for the RX gate on wire 0.\n",
        "        y (float): A parameter for the RY gate on wire 1.\n",
        "\n",
        "    Returns:\n",
        "        float: The expectation value of the PauliZ operator on wire 0.\n",
        "    \"\"\"\n",
        "    # Apply a rotation around the X-axis on the first qubit (wire 0)\n",
        "    qml.RX(x, wires=0)\n",
        "    # Apply a Controlled-NOT (CNOT) gate, with wire 0 as control and wire 1 as target\n",
        "    qml.CNOT(wires=[0, 1])\n",
        "    # Apply a rotation around the Y-axis on the second qubit (wire 1)\n",
        "    qml.RY(y, wires=1)\n",
        "\n",
        "    # Return the expectation value of the PauliZ operator on the first qubit.\n",
        "    # This is a common measurement in quantum machine learning.\n",
        "    return qml.expval(qml.PauliZ(0))\n",
        "\n",
        "print(\"\\nQuantum circuit 'simple_circuit' defined.\")\n"
      ],
      "metadata": {
        "colab": {
          "base_uri": "https://localhost:8080/"
        },
        "id": "dMDFXSyZ7eXK",
        "outputId": "a9e30c41-b737-4120-f90d-2989051ef04c"
      },
      "execution_count": 14,
      "outputs": [
        {
          "output_type": "stream",
          "name": "stdout",
          "text": [
            "\n",
            "Quantum circuit 'simple_circuit' defined.\n"
          ]
        }
      ]
    },
    {
      "cell_type": "code",
      "source": [
        "# --- Run the quantum circuit ---\n",
        "# Define some input parameters for our circuit.\n",
        "# We use 'requires_grad=True' from PennyLane's NumPy to enable automatic differentiation.\n",
        "param_x = np.array(0.54, requires_grad=True)\n",
        "param_y = np.array(0.12, requires_grad=True)\n"
      ],
      "metadata": {
        "id": "FJwRXr9L9uO3"
      },
      "execution_count": 13,
      "outputs": []
    },
    {
      "cell_type": "code",
      "source": [
        "\n",
        "\n",
        "# Execute the circuit with the given parameters\n",
        "result = simple_circuit(param_x, param_y)\n",
        "print(f\"\\nCircuit output (expectation value): {result}\")\n",
        "\n",
        "# --- Calculate gradients (a core feature of PennyLane) ---\n",
        "# PennyLane can automatically compute gradients of quantum circuits.\n",
        "# This is crucial for optimizing quantum machine learning models.\n",
        "gradient_function = qml.grad(simple_circuit)\n",
        "gradients = gradient_function(param_x, param_y)\n",
        "\n",
        "print(f\"Gradient with respect to param_x: {gradients[0]}\")\n",
        "print(f\"Gradient with respect to param_y: {gradients[1]}\")\n",
        "\n"
      ],
      "metadata": {
        "colab": {
          "base_uri": "https://localhost:8080/"
        },
        "id": "_KHMBnyt7e4E",
        "outputId": "92dff6e4-9099-4d12-cbaa-0a75795aef2f"
      },
      "execution_count": 17,
      "outputs": [
        {
          "output_type": "stream",
          "name": "stdout",
          "text": [
            "\n",
            "Circuit output (expectation value): 0.8577086813638243\n",
            "Gradient with respect to param_x: -0.5141359916531132\n",
            "Gradient with respect to param_y: 6.938893903907228e-18\n"
          ]
        }
      ]
    },
    {
      "cell_type": "code",
      "source": [],
      "metadata": {
        "id": "dLWS_Wx0-Isv"
      },
      "execution_count": null,
      "outputs": []
    },
    {
      "cell_type": "markdown",
      "source": [
        "# Visualize the circuit"
      ],
      "metadata": {
        "id": "2SriHjzN-JXu"
      }
    },
    {
      "cell_type": "code",
      "source": [
        "# You can also draw the circuit to see its structure.\n",
        "print(\"\\nCircuit visualization:\")\n",
        "print(qml.draw(simple_circuit)(param_x, param_y))"
      ],
      "metadata": {
        "colab": {
          "base_uri": "https://localhost:8080/"
        },
        "id": "NJsz1eJB93rf",
        "outputId": "a62773fd-dc77-44e3-b22e-d98622322179"
      },
      "execution_count": 16,
      "outputs": [
        {
          "output_type": "stream",
          "name": "stdout",
          "text": [
            "\n",
            "Circuit visualization:\n",
            "0: ──RX(0.54)─╭●───────────┤  <Z>\n",
            "1: ───────────╰X──RY(0.12)─┤     \n"
          ]
        }
      ]
    },
    {
      "cell_type": "code",
      "source": [],
      "metadata": {
        "id": "4fNbYRHX-Ufv"
      },
      "execution_count": null,
      "outputs": []
    }
  ],
  "metadata": {
    "colab": {
      "provenance": []
    },
    "kernelspec": {
      "display_name": "Python 3",
      "name": "python3"
    }
  },
  "nbformat": 4,
  "nbformat_minor": 0
}