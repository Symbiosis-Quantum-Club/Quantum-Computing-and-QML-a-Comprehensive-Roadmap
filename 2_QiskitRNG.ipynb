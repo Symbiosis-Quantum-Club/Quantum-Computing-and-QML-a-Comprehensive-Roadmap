{
  "nbformat": 4,
  "nbformat_minor": 0,
  "metadata": {
    "colab": {
      "provenance": []
    },
    "kernelspec": {
      "name": "python3",
      "display_name": "Python 3"
    },
    "language_info": {
      "name": "python"
    }
  },
  "cells": [
    {
      "cell_type": "code",
      "source": [
        "!pip install qiskit\n",
        "!pip install qiskit_aer"
      ],
      "metadata": {
        "colab": {
          "base_uri": "https://localhost:8080/"
        },
        "id": "hXha8mtQqKI7",
        "outputId": "9ff9a5a7-414a-4cef-8e26-c742ae070289"
      },
      "execution_count": 3,
      "outputs": [
        {
          "output_type": "stream",
          "name": "stdout",
          "text": [
            "Collecting qiskit\n",
            "  Downloading qiskit-2.1.1-cp39-abi3-manylinux_2_17_x86_64.manylinux2014_x86_64.whl.metadata (12 kB)\n",
            "Collecting rustworkx>=0.15.0 (from qiskit)\n",
            "  Downloading rustworkx-0.16.0-cp39-abi3-manylinux_2_17_x86_64.manylinux2014_x86_64.whl.metadata (10 kB)\n",
            "Requirement already satisfied: numpy<3,>=1.17 in /usr/local/lib/python3.11/dist-packages (from qiskit) (2.0.2)\n",
            "Requirement already satisfied: scipy>=1.5 in /usr/local/lib/python3.11/dist-packages (from qiskit) (1.15.3)\n",
            "Requirement already satisfied: dill>=0.3 in /usr/local/lib/python3.11/dist-packages (from qiskit) (0.3.7)\n",
            "Collecting stevedore>=3.0.0 (from qiskit)\n",
            "  Downloading stevedore-5.4.1-py3-none-any.whl.metadata (2.3 kB)\n",
            "Requirement already satisfied: typing-extensions in /usr/local/lib/python3.11/dist-packages (from qiskit) (4.14.1)\n",
            "Collecting pbr>=2.0.0 (from stevedore>=3.0.0->qiskit)\n",
            "  Downloading pbr-6.1.1-py2.py3-none-any.whl.metadata (3.4 kB)\n",
            "Requirement already satisfied: setuptools in /usr/local/lib/python3.11/dist-packages (from pbr>=2.0.0->stevedore>=3.0.0->qiskit) (75.2.0)\n",
            "Downloading qiskit-2.1.1-cp39-abi3-manylinux_2_17_x86_64.manylinux2014_x86_64.whl (7.5 MB)\n",
            "\u001b[2K   \u001b[90m━━━━━━━━━━━━━━━━━━━━━━━━━━━━━━━━━━━━━━━━\u001b[0m \u001b[32m7.5/7.5 MB\u001b[0m \u001b[31m93.1 MB/s\u001b[0m eta \u001b[36m0:00:00\u001b[0m\n",
            "\u001b[?25hDownloading rustworkx-0.16.0-cp39-abi3-manylinux_2_17_x86_64.manylinux2014_x86_64.whl (2.1 MB)\n",
            "\u001b[2K   \u001b[90m━━━━━━━━━━━━━━━━━━━━━━━━━━━━━━━━━━━━━━━━\u001b[0m \u001b[32m2.1/2.1 MB\u001b[0m \u001b[31m71.5 MB/s\u001b[0m eta \u001b[36m0:00:00\u001b[0m\n",
            "\u001b[?25hDownloading stevedore-5.4.1-py3-none-any.whl (49 kB)\n",
            "\u001b[2K   \u001b[90m━━━━━━━━━━━━━━━━━━━━━━━━━━━━━━━━━━━━━━━━\u001b[0m \u001b[32m49.5/49.5 kB\u001b[0m \u001b[31m4.6 MB/s\u001b[0m eta \u001b[36m0:00:00\u001b[0m\n",
            "\u001b[?25hDownloading pbr-6.1.1-py2.py3-none-any.whl (108 kB)\n",
            "\u001b[2K   \u001b[90m━━━━━━━━━━━━━━━━━━━━━━━━━━━━━━━━━━━━━━━━\u001b[0m \u001b[32m109.0/109.0 kB\u001b[0m \u001b[31m12.9 MB/s\u001b[0m eta \u001b[36m0:00:00\u001b[0m\n",
            "\u001b[?25hInstalling collected packages: rustworkx, pbr, stevedore, qiskit\n",
            "Successfully installed pbr-6.1.1 qiskit-2.1.1 rustworkx-0.16.0 stevedore-5.4.1\n",
            "Collecting qiskit_aer\n",
            "  Downloading qiskit_aer-0.17.1-cp311-cp311-manylinux_2_17_x86_64.manylinux2014_x86_64.whl.metadata (8.3 kB)\n",
            "Requirement already satisfied: qiskit>=1.1.0 in /usr/local/lib/python3.11/dist-packages (from qiskit_aer) (2.1.1)\n",
            "Requirement already satisfied: numpy>=1.16.3 in /usr/local/lib/python3.11/dist-packages (from qiskit_aer) (2.0.2)\n",
            "Requirement already satisfied: scipy>=1.0 in /usr/local/lib/python3.11/dist-packages (from qiskit_aer) (1.15.3)\n",
            "Requirement already satisfied: psutil>=5 in /usr/local/lib/python3.11/dist-packages (from qiskit_aer) (5.9.5)\n",
            "Requirement already satisfied: python-dateutil>=2.8.0 in /usr/local/lib/python3.11/dist-packages (from qiskit_aer) (2.9.0.post0)\n",
            "Requirement already satisfied: six>=1.5 in /usr/local/lib/python3.11/dist-packages (from python-dateutil>=2.8.0->qiskit_aer) (1.17.0)\n",
            "Requirement already satisfied: rustworkx>=0.15.0 in /usr/local/lib/python3.11/dist-packages (from qiskit>=1.1.0->qiskit_aer) (0.16.0)\n",
            "Requirement already satisfied: dill>=0.3 in /usr/local/lib/python3.11/dist-packages (from qiskit>=1.1.0->qiskit_aer) (0.3.7)\n",
            "Requirement already satisfied: stevedore>=3.0.0 in /usr/local/lib/python3.11/dist-packages (from qiskit>=1.1.0->qiskit_aer) (5.4.1)\n",
            "Requirement already satisfied: typing-extensions in /usr/local/lib/python3.11/dist-packages (from qiskit>=1.1.0->qiskit_aer) (4.14.1)\n",
            "Requirement already satisfied: pbr>=2.0.0 in /usr/local/lib/python3.11/dist-packages (from stevedore>=3.0.0->qiskit>=1.1.0->qiskit_aer) (6.1.1)\n",
            "Requirement already satisfied: setuptools in /usr/local/lib/python3.11/dist-packages (from pbr>=2.0.0->stevedore>=3.0.0->qiskit>=1.1.0->qiskit_aer) (75.2.0)\n",
            "Downloading qiskit_aer-0.17.1-cp311-cp311-manylinux_2_17_x86_64.manylinux2014_x86_64.whl (12.4 MB)\n",
            "\u001b[2K   \u001b[90m━━━━━━━━━━━━━━━━━━━━━━━━━━━━━━━━━━━━━━━━\u001b[0m \u001b[32m12.4/12.4 MB\u001b[0m \u001b[31m95.1 MB/s\u001b[0m eta \u001b[36m0:00:00\u001b[0m\n",
            "\u001b[?25hInstalling collected packages: qiskit_aer\n",
            "Successfully installed qiskit_aer-0.17.1\n"
          ]
        }
      ]
    },
    {
      "cell_type": "code",
      "source": [
        "# Quantum RNG using Qiskit – Explained Step-by-Step\n",
        "\n",
        "from qiskit import QuantumCircuit\n",
        "from qiskit_aer import QasmSimulator\n",
        "import matplotlib.pyplot as plt"
      ],
      "metadata": {
        "id": "QL3BxgtA20Wk"
      },
      "execution_count": null,
      "outputs": []
    },
    {
      "cell_type": "code",
      "execution_count": 9,
      "metadata": {
        "colab": {
          "base_uri": "https://localhost:8080/",
          "height": 459
        },
        "id": "cjpQCeTlpg_0",
        "outputId": "149cbe0c-ad13-43f9-e15c-e14de4266a95"
      },
      "outputs": [
        {
          "output_type": "stream",
          "name": "stdout",
          "text": [
            "Random Bits: [1, 1, 1, 0, 0, 1, 0, 1, 0, 0, 0, 1, 0, 0, 1, 1]\n",
            "As Integer: 58643\n",
            "As Hex: 0xe513\n"
          ]
        },
        {
          "output_type": "display_data",
          "data": {
            "text/plain": [
              "<Figure size 600x400 with 1 Axes>"
            ],
            "image/png": "[encoded data removed]"
          },
          "metadata": {}
        }
      ],
      "source": [
        "\n",
        "\n",
        "# STEP 1: Define the quantum circuit\n",
        "# - 1 qubit + 1 classical bit\n",
        "# - Apply Hadamard gate to put the qubit into a superposition\n",
        "# - Measure the result into the classical bit\n",
        "\n",
        "def create_rng_circuit():\n",
        "    qc = QuantumCircuit(1, 1)\n",
        "    qc.h(0)            # Hadamard gate creates equal superposition\n",
        "    qc.measure(0, 0)   # Collapses to |0⟩ or |1⟩ randomly\n",
        "    return qc\n",
        "\n",
        "# STEP 2: Generate a single random bit\n",
        "# - Run the circuit with 1 shot\n",
        "# - Use QasmSimulator to simulate measurement\n",
        "\n",
        "def generate_random_bit():\n",
        "    qc = create_rng_circuit()\n",
        "    simulator = QasmSimulator()\n",
        "    job = simulator.run(qc, shots=1)\n",
        "    result = job.result()\n",
        "    counts = result.get_counts()\n",
        "    return int(list(counts.keys())[0])  # Extract 0 or 1 from result\n",
        "\n",
        "# STEP 3: Generate multiple random bits\n",
        "# - Run the above circuit repeatedly for `n` bits\n",
        "\n",
        "def generate_random_bits(n):\n",
        "    return [generate_random_bit() for _ in range(n)]\n",
        "\n",
        "# STEP 4: Visualize output distribution for many samples\n",
        "# - Run the same quantum circuit `shots` times\n",
        "# - Use matplotlib to create a customized bar chart of counts\n",
        "\n",
        "def visualize_rng_distribution(shots=1000):\n",
        "    qc = create_rng_circuit()\n",
        "    simulator = QasmSimulator()\n",
        "    job = simulator.run(qc, shots=shots)\n",
        "    result = job.result()\n",
        "    counts = result.get_counts()\n",
        "\n",
        "    fig, ax = plt.subplots(figsize=(6, 4))\n",
        "    bars = ax.bar(counts.keys(), counts.values(), width=0.4, color=['skyblue', 'salmon'])\n",
        "\n",
        "    ax.set_title(f\"Randomness Distribution over {shots} Shots\", fontsize=14)\n",
        "    ax.set_xlabel(\"Measurement Outcome\", fontsize=12)\n",
        "    ax.set_ylabel(\"Frequency\", fontsize=12)\n",
        "    ax.grid(True, linestyle='--', alpha=0.6, axis='y')\n",
        "\n",
        "    for bar in bars:\n",
        "        yval = bar.get_height()\n",
        "        ax.text(bar.get_x() + bar.get_width()/2, yval + 5, f'{int(yval)}',\n",
        "                ha='center', va='bottom', fontsize=10)\n",
        "\n",
        "    plt.tight_layout()\n",
        "    plt.show()\n",
        "\n",
        "# PRACTICAL APPLICATION\n",
        "# ----------------------\n",
        "# This kind of RNG is based on true quantum randomness.\n",
        "# Useful in applications like:\n",
        "# - Cryptography (e.g., quantum key generation)\n",
        "# - Probabilistic simulations\n",
        "# - Fair lotteries or games\n",
        "# - Randomized algorithms\n",
        "\n",
        "if __name__ == '__main__':\n",
        "    # Generate and display 16 random bits\n",
        "    bits = generate_random_bits(16)\n",
        "    print(\"Random Bits:\", bits)\n",
        "\n",
        "    # Convert to integer and hex for practical use\n",
        "    as_integer = int(\"\".join(map(str, bits)), 2)\n",
        "    print(\"As Integer:\", as_integer)\n",
        "    print(\"As Hex:\", hex(as_integer))\n",
        "\n",
        "    # Visualize the distribution across many runs\n",
        "    visualize_rng_distribution()"
      ]
    },
    {
      "cell_type": "code",
      "source": [
        "s"
      ],
      "metadata": {
        "id": "A1CzaTfcqKnd"
      },
      "execution_count": null,
      "outputs": []
    }
  ]
}